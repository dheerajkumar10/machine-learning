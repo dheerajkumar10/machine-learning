{
 "cells": [
  {
   "cell_type": "code",
   "execution_count": 73,
   "id": "90f4ae7b",
   "metadata": {},
   "outputs": [],
   "source": [
    "dataset1 = [(( 1.5963600450124, 75.717194178189, 23), 'W' ),\n",
    "(( 1.6990610819676, 83.477307503684, 25), 'M' ),\n",
    "(( 1.5052092436, 74.642420817737, 21), 'W' ),\n",
    "(( 1.5738635789008, 78.562465284603, 30), 'M' ),\n",
    "(( 1.796178772769, 74.566117057707, 29), 'M' ),\n",
    "(( 1.6274618774347, 82.250591567161, 21), 'W' ),\n",
    "(( 1.6396843250708, 71.37567170848, 20), 'W' ),\n",
    "(( 1.538505823668, 77.418902097029, 32), 'W' ),\n",
    "(( 1.6488692005889, 76.333044488477, 26), 'W' ),\n",
    "(( 1.7233804613095, 85.812112126306, 27), 'M' ),\n",
    "(( 1.7389100516771, 76.424421782215, 24), 'W' ),\n",
    "(( 1.5775696242624, 77.201404139171, 29), 'W' ),\n",
    "(( 1.7359417237856, 77.004988515324, 20), 'M' ),\n",
    "(( 1.5510482441354, 72.950756316157, 24), 'W' ),\n",
    "(( 1.5765653263667, 74.750113664457, 34), 'W' ),\n",
    "(( 1.4916026885377, 65.880438515643, 28), 'W' ),\n",
    "(( 1.6755053770068, 78.901754249459, 22), 'M' ),\n",
    "(( 1.4805881225567, 69.652364469244, 30), 'W' ),\n",
    "(( 1.6343943760912, 73.998278712613, 30), 'W' ),\n",
    "(( 1.6338449829543, 79.216500811112, 27), 'W' ),\n",
    "(( 1.5014451222259, 66.917339299419, 27), 'W' ),\n",
    "(( 1.8575887178701, 79.942454850988, 28), 'M' ),\n",
    "(( 1.6805940669394, 78.213519314007, 27), 'W' ),\n",
    "(( 1.6888905106948, 83.031099742808, 20), 'M' ),\n",
    "(( 1.7055120272359, 84.233282531303, 18), 'M' ),\n",
    "(( 1.5681965896812, 74.753880204215, 22), 'W' ),\n",
    "(( 1.6857758389206, 84.014217544019, 25), 'W' ),\n",
    "(( 1.7767370337678, 75.709336556562, 27), 'M' ),\n",
    "(( 1.6760125952287, 74.034126149139, 28), 'M' ),\n",
    "(( 1.5999112612548, 72.040030344184, 27), 'M' ),\n",
    "(( 1.6770845322305, 76.149431872551, 25), 'M' ),\n",
    "(( 1.7596128136991, 87.366395298795, 29), 'M' ),\n",
    "(( 1.5344541456027, 73.832214971449, 22), 'W' ),\n",
    "(( 1.5992629534387, 82.4806916967, 34), 'W' ),\n",
    "(( 1.6714162787917, 67.986534194515, 29), 'W' ),\n",
    "(( 1.7070831676329, 78.269583353177, 25), 'M' ),\n",
    "(( 1.5691295338456, 81.09431696972, 27), 'M' ),\n",
    "(( 1.7767893419281, 76.910413184648, 30), 'M' ),\n",
    "(( 1.5448153215763, 76.888087599642, 32), 'W' ),\n",
    "(( 1.5452842691008, 69.761889289463, 30), 'W' ),\n",
    "(( 1.6469991919639, 82.289126983444, 18), 'W' ),\n",
    "(( 1.6353732734723, 77.829257585654, 19), 'W' ),\n",
    "(( 1.7175342426502, 85.002276406574, 26), 'M' ),\n",
    "(( 1.6163551692382, 77.247935733799, 21), 'M' ),\n",
    "(( 1.6876845881843, 85.616829192322, 27), 'M' ),\n",
    "(( 1.5472705508274, 64.474350365634, 23), 'W' ),\n",
    "(( 1.558229415357, 80.382011318379, 21), 'W' ),\n",
    "(( 1.6242189230632, 69.567339939973, 28), 'W' ),\n",
    "(( 1.8215645865237, 78.163631826626, 22), 'W' ),\n",
    "(( 1.6984142478298, 69.884030497097, 26), 'M' )]\n",
    "\n",
    "data1 = []\n",
    "target1 = list()\n",
    "for row in dataset1:\n",
    "    d = []\n",
    "    for r in row[0]:\n",
    "        d.append(r)\n",
    "    data1.append(d)\n",
    "    if(row[1]=='M'):\n",
    "        target1.append(1)        \n",
    "    elif(row[1] == 'W'):\n",
    "        target1.append(0)\n",
    "for i in range(len(data1)):\n",
    "    data1[i].append(target1[i])"
   ]
  },
  {
   "cell_type": "code",
   "execution_count": 74,
   "id": "68bdb733",
   "metadata": {},
   "outputs": [],
   "source": [
    "dataset2 = [(( 1.6468551415123, 82.666468220128, 29), 'M' ),\n",
    "(( 1.5727791290292, 75.545348033094, 24), 'M' ),\n",
    "(( 1.8086593470477, 78.093913654921, 27), 'M' ),\n",
    "(( 1.613966988578, 76.083586505149, 23), 'W' ),\n",
    "(( 1.6603990297076, 70.539053122611, 24), 'M' ),\n",
    "(( 1.6737443242383, 66.042005829182, 28), 'W' ),\n",
    "(( 1.6824912337281, 81.061984274536, 29), 'M' ),\n",
    "(( 1.5301691510101, 77.26547501308, 22), 'M' ),\n",
    "(( 1.7392340943261, 92.752488433153, 24), 'M' ),\n",
    "(( 1.6427105169884, 83.322790265985, 30), 'M' ),\n",
    "(( 1.5889040551166, 74.848224733663, 25), 'W' ),\n",
    "(( 1.5051718284868, 80.078271153645, 31), 'W' ),\n",
    "(( 1.729420786579, 81.936423109142, 26), 'M' ),\n",
    "(( 1.7352568354092, 85.497712687992, 19), 'M' ),\n",
    "(( 1.5056950011245, 73.726557750383, 24), 'W' ),\n",
    "(( 1.772404089054, 75.534265951718, 30), 'M' ),\n",
    "(( 1.5212346939173, 74.355845722315, 29), 'W' ),\n",
    "(( 1.8184515409355, 85.705767969326, 25), 'M' ),\n",
    "(( 1.7307897479464, 84.277029918205, 28), 'W' ),\n",
    "(( 1.6372690389158, 72.289040612489, 27), 'M' ),\n",
    "(( 1.6856953072545, 70.406532419182, 28), 'W' ),\n",
    "(( 1.832494802635, 81.627925524191, 27), 'M' ),\n",
    "(( 1.5061197864796, 85.886760677468, 31), 'W' ),\n",
    "(( 1.5970906671458, 71.755566818152, 27), 'W' ),\n",
    "(( 1.6780459059283, 78.900587239209, 25), 'W' ),\n",
    "(( 1.6356901170146, 84.066566323977, 21), 'W' ),\n",
    "(( 1.6085494116591, 70.950456539016, 30), 'M' ),\n",
    "(( 1.5873479102442, 77.558144903338, 25), 'M' ),\n",
    "(( 1.7542078120838, 75.3117550236, 26), 'M' ),\n",
    "(( 1.642417315747, 67.97377818999, 31), 'W' ),\n",
    "(( 1.5744266340913, 81.767568318602, 23), 'M' ),\n",
    "(( 1.8470601407979, 68.606183538532, 30), 'W' ),\n",
    "(( 1.7119387468283, 80.560922353487, 27), 'W' ),\n",
    "(( 1.6169930563306, 75.538611935125, 27), 'M' ),\n",
    "(( 1.6355653058986, 78.49626023408, 24), 'M' ),\n",
    "(( 1.6035395957618, 79.226052358485, 33), 'M' ),\n",
    "(( 1.662787957279, 76.865925681154, 25), 'M' ),\n",
    "(( 1.5889291137091, 76.548543553914, 28), 'W' ),\n",
    "(( 1.9058127964477, 82.56539915922, 25), 'M' ),\n",
    "(( 1.694633493614, 62.870480634419, 21), 'W' ),\n",
    "(( 1.7635692396034, 82.479783004684, 27), 'M' ),\n",
    "(( 1.6645292231449, 75.838104636904, 29), 'W' ),\n",
    "(( 1.7201968406129, 81.134689293557, 24), 'W' ),\n",
    "(( 1.5775563651749, 65.920103519266, 24), 'W' ),\n",
    "(( 1.6521294216004, 83.312640709417, 28), 'M' ),\n",
    "(( 1.5597501915973, 76.475667826389, 30), 'W' ),\n",
    "(( 1.7847561120027, 83.363676219109, 29), 'M' ),\n",
    "(( 1.6765690500715, 73.98959022721, 23), 'M' ),\n",
    "(( 1.6749260607992, 73.687015573315, 27), 'W' ),\n",
    "(( 1.58582362825, 71.713707691505, 28), 'M' ),\n",
    "(( 1.5893375739649, 74.248033504548, 27), 'W' ),\n",
    "(( 1.6084440045081, 71.126430164213, 27), 'W' ),\n",
    "(( 1.6048804804343, 82.049319162211, 26), 'W' ),\n",
    "(( 1.5774196609804, 70.878214496062, 24), 'W' ),\n",
    "(( 1.6799586185525, 75.649534976838, 29), 'W' ),\n",
    "(( 1.7315642636281, 92.12183674186, 29), 'M' ),\n",
    "(( 1.5563282000349, 69.312673560451, 32), 'W' ),\n",
    "(( 1.7784349641893, 83.464562543, 26), 'M' ),\n",
    "(( 1.7270244609765, 76.599791001341, 22), 'W' ),\n",
    "(( 1.6372540837311, 74.746741127229, 30), 'W' ),\n",
    "(( 1.582550559056, 73.440027907722, 23), 'W' ),\n",
    "(( 1.722864383186, 79.37821152354, 20), 'W' ),\n",
    "(( 1.5247544081009, 70.601290492141, 27), 'W' ),\n",
    "(( 1.580858666774, 70.146982323579, 24), 'W' ),\n",
    "(( 1.703343390074, 90.153276095421, 22), 'W' ),\n",
    "(( 1.5339948635367, 59.675627532338, 25), 'W' ),\n",
    "(( 1.8095306490733, 86.001187990639, 20), 'M' ),\n",
    "(( 1.7454786971676, 85.212429336602, 22), 'M' ),\n",
    "(( 1.6343303342105, 85.46378358014, 32), 'M' ),\n",
    "(( 1.5983479173071, 79.323905480504, 27), 'W' )\n",
    "]\n",
    "\n",
    "data2 = []\n",
    "target2 = list()\n",
    "for row in dataset2:\n",
    "    d = []\n",
    "    for r in row[0]:\n",
    "        d.append(r)\n",
    "    data2.append(d)\n",
    "    if(row[1]=='M'):\n",
    "        target2.append(1)        \n",
    "    elif(row[1] == 'W'):\n",
    "        target2.append(0)\n",
    "for i in range(len(data2)):\n",
    "    data2[i].append(target2[i])\n"
   ]
  },
  {
   "cell_type": "code",
   "execution_count": 75,
   "id": "ea78c1c6",
   "metadata": {},
   "outputs": [],
   "source": [
    "def test_split(index, value, dataset):\n",
    "    left, right = list(), list()\n",
    "    for row in dataset:\n",
    "        if row[index] < value:\n",
    "            left.append(row)\n",
    "        else:\n",
    "            right.append(row)\n",
    "    return left, right"
   ]
  },
  {
   "cell_type": "code",
   "execution_count": 76,
   "id": "24da0eaa",
   "metadata": {},
   "outputs": [],
   "source": [
    "def gini_index(groups, classes):\n",
    "    # count all samples at split point\n",
    "    n_instances = float(sum([len(group) for group in groups]))\n",
    "    # sum weighted Gini index for each group\n",
    "    gini = 0.0\n",
    "    for group in groups:\n",
    "        size = float(len(group))\n",
    "        # avoid divide by zero\n",
    "        if size == 0:\n",
    "            continue\n",
    "        score = 0.0\n",
    "        # score the group based on the score for each class\n",
    "        for class_val in classes:\n",
    "            p = [row[-1] for row in group].count(class_val) / size\n",
    "            score += p * p\n",
    "        # weight the group score by its relative size\n",
    "        gini += (1.0 - score) * (size / n_instances)\n",
    "    return gini"
   ]
  },
  {
   "cell_type": "code",
   "execution_count": 77,
   "id": "3dba43b0",
   "metadata": {},
   "outputs": [],
   "source": [
    "def get_split(dataset):\n",
    "    class_values = list(set(row[-1] for row in dataset))\n",
    "    b_index, b_value, b_score, b_groups = 999, 999, 999, None\n",
    "    for index in range(len(dataset[0])-1):\n",
    "        for row in dataset:\n",
    "            groups = test_split(index, row[index], dataset)\n",
    "            gini = gini_index(groups, class_values)\n",
    "            if gini < b_score:\n",
    "                b_index, b_value, b_score, b_groups = index, row[index], gini, groups\n",
    "    return {'index':b_index, 'value':b_value, 'groups':b_groups}"
   ]
  },
  {
   "cell_type": "code",
   "execution_count": 78,
   "id": "f5d4da55",
   "metadata": {},
   "outputs": [],
   "source": [
    "# Create a terminal node value\n",
    "def to_terminal(group):\n",
    "    outcomes = [row[-1] for row in group]\n",
    "    return max(set(outcomes), key=outcomes.count)"
   ]
  },
  {
   "cell_type": "code",
   "execution_count": 79,
   "id": "3a4e1882",
   "metadata": {},
   "outputs": [],
   "source": [
    "# Create child splits for a node or make terminal\n",
    "def split(node, max_depth, min_size, depth):\n",
    "    left, right = node['groups']\n",
    "    del(node['groups'])\n",
    "    # check for a no split\n",
    "    if not left or not right:\n",
    "        node['left'] = node['right'] = to_terminal(left + right)\n",
    "        return\n",
    "    # check for max depth\n",
    "    if depth >= max_depth:\n",
    "        node['left'], node['right'] = to_terminal(left), to_terminal(right)\n",
    "        return\n",
    "    # process left child\n",
    "    if len(left) <= min_size:\n",
    "        node['left'] = to_terminal(left)\n",
    "    else:\n",
    "        node['left'] = get_split(left)\n",
    "        split(node['left'], max_depth, min_size, depth+1)\n",
    "    # process right child\n",
    "    if len(right) <= min_size:\n",
    "        node['right'] = to_terminal(right)\n",
    "    else:\n",
    "        node['right'] = get_split(right)\n",
    "        split(node['right'], max_depth, min_size, depth+1)"
   ]
  },
  {
   "cell_type": "code",
   "execution_count": 80,
   "id": "21cff3b9",
   "metadata": {},
   "outputs": [],
   "source": [
    "# Build a decision tree\n",
    "def build_tree(train, max_depth, min_size):\n",
    "    root = get_split(train)\n",
    "    split(root, max_depth, min_size, 1)\n",
    "    return root"
   ]
  },
  {
   "cell_type": "code",
   "execution_count": 81,
   "id": "dbba9ed3",
   "metadata": {},
   "outputs": [],
   "source": [
    "def predict(node, row):\n",
    "    if row[node['index']] < node['value']:\n",
    "        if isinstance(node['left'], dict):\n",
    "            return predict(node['left'], row)\n",
    "        else:\n",
    "            return node['left']\n",
    "    else:\n",
    "        if isinstance(node['right'], dict):\n",
    "            return predict(node['right'], row)\n",
    "        else:\n",
    "            return node['right']\n"
   ]
  },
  {
   "cell_type": "code",
   "execution_count": 82,
   "id": "a1955bae",
   "metadata": {},
   "outputs": [],
   "source": [
    "def decision_tree(train, test, max_depth, min_size):\n",
    "    tree = build_tree(train, max_depth, min_size)\n",
    "    predictions = list()\n",
    "    for row in test:\n",
    "        prediction = predict(tree, row)\n",
    "        predictions.append(prediction)\n",
    "    return(predictions)"
   ]
  },
  {
   "cell_type": "code",
   "execution_count": 139,
   "id": "908a1b25",
   "metadata": {},
   "outputs": [
    {
     "name": "stdout",
     "output_type": "stream",
     "text": [
      "[0, 0, 1, 0, 0, 0, 1, 0, 1, 0, 0, 0, 1, 1, 0, 1, 0, 1, 1, 0, 1, 1, 0, 0, 1, 0, 0, 0, 1, 0, 0, 1, 1, 0, 0, 0, 0, 0, 1, 1, 1, 0, 1, 0, 0, 0, 1, 1, 0, 0, 0, 0, 0, 0, 1, 1, 0, 1, 1, 0, 0, 1, 0, 0, 1, 0, 1, 1, 0, 0]\n",
      "[1, 1, 1, 0, 1, 0, 1, 1, 1, 1, 0, 0, 1, 1, 0, 1, 0, 1, 0, 1, 0, 1, 0, 0, 0, 0, 1, 1, 1, 0, 1, 0, 0, 1, 1, 1, 1, 0, 1, 0, 1, 0, 0, 0, 1, 0, 1, 1, 0, 1, 0, 0, 0, 0, 0, 1, 0, 1, 0, 0, 0, 0, 0, 0, 0, 0, 1, 1, 1, 0]\n"
     ]
    }
   ],
   "source": [
    "predict_array = (decision_tree(data1,data2,1,0))\n",
    "print(predict_array)\n",
    "print(target2)"
   ]
  },
  {
   "cell_type": "code",
   "execution_count": 140,
   "id": "4456eb88",
   "metadata": {},
   "outputs": [
    {
     "name": "stdout",
     "output_type": "stream",
     "text": [
      "43\n",
      "70\n"
     ]
    }
   ],
   "source": [
    "count = 0\n",
    "for i in range(len(target2)):\n",
    "    if(target2[i]==predict_array[i]):\n",
    "        count += 1\n",
    "print(count)\n",
    "print(len(target2))"
   ]
  },
  {
   "cell_type": "code",
   "execution_count": 141,
   "id": "2b9bf19a",
   "metadata": {},
   "outputs": [
    {
     "name": "stdout",
     "output_type": "stream",
     "text": [
      "Accuracy = 61.42857142857143\n"
     ]
    }
   ],
   "source": [
    "print(\"Accuracy = \"+str((count/(len(target2)))*100))"
   ]
  },
  {
   "cell_type": "code",
   "execution_count": null,
   "id": "0c0f15f2",
   "metadata": {},
   "outputs": [],
   "source": []
  }
 ],
 "metadata": {
  "kernelspec": {
   "display_name": "Python 3 (ipykernel)",
   "language": "python",
   "name": "python3"
  },
  "language_info": {
   "codemirror_mode": {
    "name": "ipython",
    "version": 3
   },
   "file_extension": ".py",
   "mimetype": "text/x-python",
   "name": "python",
   "nbconvert_exporter": "python",
   "pygments_lexer": "ipython3",
   "version": "3.9.7"
  }
 },
 "nbformat": 4,
 "nbformat_minor": 5
}
